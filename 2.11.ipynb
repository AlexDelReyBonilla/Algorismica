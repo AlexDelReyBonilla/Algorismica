{
 "cells": [
  {
   "cell_type": "markdown",
   "metadata": {
    "id": "6yEUQux4NZR3"
   },
   "source": [
    "# Capítol 2 - Algorismes bàsics de Python"
   ]
  },
  {
   "cell_type": "markdown",
   "metadata": {},
   "source": [
    "<div style=\"background-color:rgba(0, 0, 0, 0.2); text-align:left; vertical-align: middle;  border-radius:10px\">\n",
    "    <div style=\"padding: 20px\">\n",
    "    <h3>Correcció d'errates: </h3>\n",
    "        <p>Al llibre diu \"<I>Si no fem servir list comprehensions és possible solucionar el problema amb complexitat O(n)</I>\"</p>\n",
    "        <p>De fet, tant si s'utilitzen list comprehensions com si no, la complexitat és la mateixa: O(n)</p>\n",
    "    </div>\n",
    "</div>"
   ]
  },
  {
   "cell_type": "markdown",
   "metadata": {
    "id": "guMfRCGiNZSG"
   },
   "source": [
    "### 2.11 Suma quadrats"
   ]
  },
  {
   "cell_type": "markdown",
   "metadata": {},
   "source": [
    "La suma dels quadrats dels primers 10 nombres naturals es $1^2+2^2+...+10^2 =\n",
    "385$. El quadrat de la suma dels primer 10 nombres naturals es $(1+2+:::+10)^2 = 55^2 = 3025$. Per tant, la diferència entre la suma d'aquests quadrats i el quadrat de la suma es 3025 - 385 = 2640. \n",
    "\n",
    "Troba aquesta diferència per als 100 primers nombres naturals. Resol el problema fent servir list comprehensions.\n",
    "\n",
    "El problema ha de tenir un ordre de complexitat d'O(n)\n",
    "\n",
    "Fes servir aquesta plantilla per escriure el teu codi:"
   ]
  },
  {
   "cell_type": "code",
   "execution_count": 48,
   "metadata": {
    "id": "6qKOMjfENZSG"
   },
   "outputs": [
    {
     "data": {
      "text/plain": [
       "-25164150"
      ]
     },
     "execution_count": 48,
     "metadata": {},
     "output_type": "execute_result"
    }
   ],
   "source": [
    "def suma_quadrats_list_compr(n = 100):\n",
    "    \n",
    "    s = sum(pow(i, 2) for i in range(1, n + 1))\n",
    "    s -= pow(sum(j for j in range(1, n + 1)), 2)\n",
    "    \"\"\"\n",
    "    Aquesta funció calcula la diferencia entre la suma dels quadrats i els quadrat de la suma.\n",
    "    \n",
    "    Parameters\n",
    "    ----------\n",
    "    n: int\n",
    "    \n",
    "    Returns\n",
    "    -------\n",
    "    diff: int\n",
    "    \"\"\"\n",
    "    \n",
    "    return s\n",
    "suma_quadrats_list_compr(100)"
   ]
  },
  {
   "cell_type": "code",
   "execution_count": null,
   "metadata": {
    "id": "s6IonEXxNZSH"
   },
   "outputs": [],
   "source": [
    "def suma_quadrats(n = 100):\n",
    "    \"\"\"\n",
    "    Aquesta funció calcula la diferencia entre la suma dels quadrats i els quadrat de la suma.\n",
    "    \n",
    "    Parameters\n",
    "    ----------\n",
    "    n: int\n",
    "    \n",
    "    Returns\n",
    "    -------\n",
    "    diff: int\n",
    "    \"\"\"\n",
    "    \n",
    "    return s"
   ]
  },
  {
   "cell_type": "code",
   "execution_count": 2,
   "metadata": {
    "id": "s0GXpp0rNZSH"
   },
   "outputs": [
    {
     "ename": "NameError",
     "evalue": "name 'suma_quadrats_list_compr' is not defined",
     "output_type": "error",
     "traceback": [
      "\u001b[1;31m---------------------------------------------------------------------------\u001b[0m",
      "\u001b[1;31mNameError\u001b[0m                                 Traceback (most recent call last)",
      "Cell \u001b[1;32mIn[2], line 1\u001b[0m\n\u001b[1;32m----> 1\u001b[0m \u001b[38;5;28;01massert\u001b[39;00m \u001b[43msuma_quadrats_list_compr\u001b[49m() \u001b[38;5;241m==\u001b[39m \u001b[38;5;241m25164150\u001b[39m\n\u001b[0;32m      2\u001b[0m \u001b[38;5;28;01massert\u001b[39;00m suma_quadrats() \u001b[38;5;241m==\u001b[39m \u001b[38;5;241m25164150\u001b[39m\n",
      "\u001b[1;31mNameError\u001b[0m: name 'suma_quadrats_list_compr' is not defined"
     ]
    }
   ],
   "source": [
    "assert suma_quadrats_list_compr() == 25164150\n",
    "assert suma_quadrats() == 25164150"
   ]
  }
 ],
 "metadata": {
  "colab": {
   "collapsed_sections": [],
   "name": "2.11.ipynb",
   "provenance": []
  },
  "kernelspec": {
   "display_name": "Python 3",
   "language": "python",
   "name": "python3"
  },
  "language_info": {
   "codemirror_mode": {
    "name": "ipython",
    "version": 3
   },
   "file_extension": ".py",
   "mimetype": "text/x-python",
   "name": "python",
   "nbconvert_exporter": "python",
   "pygments_lexer": "ipython3",
   "version": "3.11.9"
  }
 },
 "nbformat": 4,
 "nbformat_minor": 0
}
