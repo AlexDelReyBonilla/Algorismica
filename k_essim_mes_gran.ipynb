{
 "cells": [
  {
   "cell_type": "markdown",
   "metadata": {},
   "source": [
    "# Troba el k-èssim element més gran\n",
    "\n",
    "Donada una llista desordenada, cal trobar el k-èssim element més gran de la llista. Implementeu el vostre programa utilitzant un algorisme de dividir-i-vèncer.\n",
    "\n",
    "Calculeu la complexitat. \n",
    "\n",
    "__IMPORTANT:__ No es pot fer ús de la funció sort() de Python per ordenar la llista"
   ]
  },
  {
   "cell_type": "code",
   "execution_count": 1,
   "metadata": {},
   "outputs": [],
   "source": [
    "def k_essim_mes_gran(llista, k):\n",
    "    \n",
    "    \"\"\"\n",
    "    Funció que retorna el k-èssim element més gran d'una llista\n",
    "    Paràmetres:\n",
    "    ___________\n",
    "    llista : list\n",
    "        Llista de la que volem trobar l'element més gran\n",
    "    k : int\n",
    "        Posició de l'element més gran que volem trobar\n",
    "    Retorna:\n",
    "    ________\n",
    "    int\n",
    "    pivot : int\n",
    "        Retorna l'element més gran de la llista a la posició k\n",
    "    \"\"\"\n",
    "    "
   ]
  },
  {
   "cell_type": "code",
   "execution_count": null,
   "metadata": {},
   "outputs": [],
   "source": [
    "# PROVA EL TEU CODI\n",
    "llista = [7, 14, 3, 14, 7, 9, 14, 3]\n",
    "assert k_essim_mes_gran(llista, 1) == 14  # El més gran\n",
    "assert k_essim_mes_gran(llista, 2) == 14  # El segon més gran\n",
    "assert k_essim_mes_gran(llista, 3) == 14  # El tercer més gran\n",
    "assert k_essim_mes_gran(llista, 4) == 9   # El quart més gran\n",
    "assert k_essim_mes_gran(llista, 5) == 7   # El cinquè més gran\n",
    "assert k_essim_mes_gran(llista, 6) == 7   # El sisè més gran\n",
    "assert k_essim_mes_gran(llista, 7) == 3   # El setè més gran\n",
    "assert k_essim_mes_gran(llista, 8) == 3   # L'octau més gran\n",
    "\n"
   ]
  },
  {
   "cell_type": "code",
   "execution_count": null,
   "metadata": {},
   "outputs": [],
   "source": [
    "# PROVA EL TEU CODI\n",
    "llista = [12, 45, 32, 10, 45, 23, 89, 45, 38, 19]\n",
    "assert k_essim_mes_gran(llista, 1) == 89  # El més gran\n",
    "assert k_essim_mes_gran(llista, 2) == 45  # El segon més gran\n",
    "assert k_essim_mes_gran(llista, 3) == 45  # El tercer més gran\n",
    "assert k_essim_mes_gran(llista, 4) == 45  # El quart més gran\n",
    "assert k_essim_mes_gran(llista, 5) == 38  # El cinquè més gran\n",
    "assert k_essim_mes_gran(llista, 6) == 32  # El sisè més gran\n",
    "assert k_essim_mes_gran(llista, 7) == 23  # El setè més gran\n",
    "assert k_essim_mes_gran(llista, 8) == 19  # L'octau més gran\n",
    "assert k_essim_mes_gran(llista, 9) == 12  # El novè més gran\n",
    "assert k_essim_mes_gran(llista, 10) == 10  # El desè més gran\n",
    "\n"
   ]
  },
  {
   "cell_type": "markdown",
   "metadata": {},
   "source": [
    "Font del problema: https://daily.dev/es/blog/fun-coding-problems-from-easy-to-hard#expert-level-enigmas"
   ]
  }
 ],
 "metadata": {
  "kernelspec": {
   "display_name": "Python 3",
   "language": "python",
   "name": "python3"
  },
  "language_info": {
   "codemirror_mode": {
    "name": "ipython",
    "version": 3
   },
   "file_extension": ".py",
   "mimetype": "text/x-python",
   "name": "python",
   "nbconvert_exporter": "python",
   "pygments_lexer": "ipython3",
   "version": "3.9.6"
  }
 },
 "nbformat": 4,
 "nbformat_minor": 2
}
