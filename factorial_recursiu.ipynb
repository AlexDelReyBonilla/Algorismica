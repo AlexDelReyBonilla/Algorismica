{
 "cells": [
  {
   "cell_type": "markdown",
   "metadata": {},
   "source": [
    "\n",
    "\n",
    "# Problema: Càlcul del Factorial\n",
    "\n",
    "**Problema:**  \n",
    "Escriviu una funció recursiva que calculi el **factorial** d'un nombre enter `n`. El factorial d'un nombre `n` (denotat com `n!`) es defineix com:\n",
    "\n",
    "- $n! = n \\times (n - 1) \\times (n - 2) \\times \\dots \\times 1$ per a $n > 0$\n",
    "- $0! = 1$ per convenció\n",
    "\n",
    "Per exemple:\n",
    "- El factorial de 5 és $5! = 5 \\times 4 \\times 3 \\times 2 \\times 1 = 120$.\n",
    "- El factorial de 3 és $3! = 3 \\times 2 \\times 1 = 6$.\n",
    "- El factorial de 0 és $0! = 1$.\n",
    "\n",
    "### Exemple d'entrada:\n",
    "\n",
    "```python\n",
    "n = 4\n",
    "```\n",
    "\n",
    "### Sortida esperada:\n",
    "24\n",
    "\n",
    "(el factorial de 4 és `4! = 4 * 3 * 2 * 1 = 24`).\n"
   ]
  },
  {
   "cell_type": "code",
   "execution_count": 2,
   "metadata": {},
   "outputs": [
    {
     "name": "stdout",
     "output_type": "stream",
     "text": [
      "6\n"
     ]
    }
   ],
   "source": [
    "def factorial(n):\n",
    "    if (n == 0):\n",
    "        return 1\n",
    "    return factorial(n-1)*n\n",
    "    # EL TEU CODI\n",
    "    \n",
    "print(factorial(3))"
   ]
  },
  {
   "cell_type": "markdown",
   "metadata": {},
   "source": [
    "# Complexitat de la funció\n",
    "\n",
    "La complexitat del programa és $O(...)$ perquè..."
   ]
  },
  {
   "cell_type": "code",
   "execution_count": 3,
   "metadata": {},
   "outputs": [
    {
     "name": "stdout",
     "output_type": "stream",
     "text": [
      "Tots els tests han passat correctament!\n"
     ]
    }
   ],
   "source": [
    "# PROVA EL TEU CODI\n",
    "\n",
    "assert factorial(0) == 1, \"Test fallat per n = 0\"\n",
    "assert factorial(1) == 1, \"Test fallat per n = 1\"\n",
    "assert factorial(2) == 2, \"Test fallat per n = 2\"\n",
    "assert factorial(3) == 6, \"Test fallat per n = 3\"\n",
    "assert factorial(4) == 24, \"Test fallat per n = 4\"\n",
    "assert factorial(5) == 120, \"Test fallat per n = 5\"\n",
    "assert factorial(6) == 720, \"Test fallat per n = 6\"\n",
    "assert factorial(7) == 5040, \"Test fallat per n = 7\"\n",
    "\n",
    "print(\"Tots els tests han passat correctament!\")"
   ]
  }
 ],
 "metadata": {
  "colab": {
   "provenance": []
  },
  "kernelspec": {
   "display_name": "Python 3",
   "language": "python",
   "name": "python3"
  },
  "language_info": {
   "codemirror_mode": {
    "name": "ipython",
    "version": 3
   },
   "file_extension": ".py",
   "mimetype": "text/x-python",
   "name": "python",
   "nbconvert_exporter": "python",
   "pygments_lexer": "ipython3",
   "version": "3.11.9"
  }
 },
 "nbformat": 4,
 "nbformat_minor": 4
}
