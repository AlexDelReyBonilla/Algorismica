{
 "cells": [
  {
   "cell_type": "markdown",
   "metadata": {
    "id": "fNnufs16DMFA"
   },
   "source": [
    "# Capítol 2 - Algorismes bàsics de Python"
   ]
  },
  {
   "cell_type": "markdown",
   "metadata": {
    "id": "FPKbIkjjDMFT"
   },
   "source": [
    "### 2.16  Nombres ambiciosos"
   ]
  },
  {
   "cell_type": "markdown",
   "metadata": {},
   "source": [
    "Un nombre és ambiciós si la suma dels seus factors és, quan apliquem recursivament aquesta definició, un nombre perfecte. Per exemple, 95:\n",
    "+ Els seus divisors propis són 1, 5 i 19. La seva suma és 25.\n",
    "+ Els divisors propis de 25 són 1 i 5. La seva suma és 6.\n",
    "+ 6 és un nombre perfecte.\n",
    "\n",
    "Escriu una funció que determini si un nombre és ambiciós."
   ]
  },
  {
   "cell_type": "code",
   "execution_count": 14,
   "metadata": {
    "id": "4nyj_TwODMFT"
   },
   "outputs": [
    {
     "name": "stdout",
     "output_type": "stream",
     "text": [
      "[1, 2, 4, 5, 10, 20, 25, 50]\n",
      "117\n",
      "[1, 3, 9, 13, 39]\n",
      "65\n",
      "[1, 5, 13]\n",
      "19\n",
      "[1]\n",
      "1\n",
      "[]\n",
      "0\n",
      "[]\n"
     ]
    },
    {
     "data": {
      "text/plain": [
       "False"
      ]
     },
     "execution_count": 14,
     "metadata": {},
     "output_type": "execute_result"
    }
   ],
   "source": [
    "def ambicios(num):\n",
    "    b = False\n",
    "    iteracions = 0\n",
    "    divisores = [i for i in range(1, num) if num % i == 0]\n",
    "    print(divisores)\n",
    "    while (num != sum(divisores) & iteracions < 1000):\n",
    "        num = sum(divisores)\n",
    "        print(num)\n",
    "        divisores = [j for j in range(1, num) if num % j == 0]\n",
    "        print(divisores)\n",
    "        iteracions += 1\n",
    "\n",
    "    \"\"\"\n",
    "    Aquesta funció comprova si un nombre es ambiciós.\n",
    "    \n",
    "    Parameters\n",
    "    ----------\n",
    "    num: int\n",
    "        El número que es vol comprovar\n",
    "    \n",
    "    Returns\n",
    "    -------\n",
    "    b: bool\n",
    "        Si el nombre d'entrada és un nombre ambiciós\n",
    "    \n",
    "    \"\"\"\n",
    "    if num == sum(divisores) & num != 0:\n",
    "        b = True\n",
    "    return b\n",
    "ambicios(100)"
   ]
  },
  {
   "cell_type": "code",
   "execution_count": 15,
   "metadata": {
    "id": "HOqJX1ulDMFT"
   },
   "outputs": [
    {
     "name": "stdout",
     "output_type": "stream",
     "text": [
      "[1, 5]\n",
      "6\n",
      "[1, 2, 3]\n",
      "6\n",
      "[1, 2, 3]\n",
      "6\n",
      "[1, 2, 3]\n",
      "6\n",
      "[1, 2, 3]\n",
      "6\n",
      "[1, 2, 3]\n",
      "6\n",
      "[1, 2, 3]\n",
      "[1, 2, 4, 5, 10, 20, 25, 50]\n",
      "117\n",
      "[1, 3, 9, 13, 39]\n",
      "65\n",
      "[1, 5, 13]\n",
      "19\n",
      "[1]\n",
      "1\n",
      "[]\n",
      "0\n",
      "[]\n",
      "[1, 11, 13]\n",
      "25\n",
      "[1, 5]\n",
      "6\n",
      "[1, 2, 3]\n",
      "6\n",
      "[1, 2, 3]\n",
      "6\n",
      "[1, 2, 3]\n",
      "6\n",
      "[1, 2, 3]\n",
      "6\n",
      "[1, 2, 3]\n"
     ]
    }
   ],
   "source": [
    "assert ambicios(25) == True  \n",
    "assert ambicios(100) == False \n",
    "assert ambicios(143) == True "
   ]
  },
  {
   "cell_type": "code",
   "execution_count": null,
   "metadata": {
    "id": "U2O8iOEKDMFT"
   },
   "outputs": [],
   "source": [
    "def ambicios_recursiu(num):\n",
    "    \"\"\"\n",
    "    Aquesta funció comprova si un nombre es ambiciós.\n",
    "    Implementació recursiva\n",
    "    \n",
    "    Parameters\n",
    "    ----------\n",
    "    num: int\n",
    "        El número que es vol comprovar\n",
    "    \n",
    "    Returns\n",
    "    -------\n",
    "    b: bool\n",
    "        Si el nombre d'entrada és un nombre ambiciós\n",
    "    \n",
    "    \"\"\"\n",
    "    return b"
   ]
  },
  {
   "cell_type": "code",
   "execution_count": null,
   "metadata": {
    "id": "INhShBsIDMFT"
   },
   "outputs": [],
   "source": [
    "assert ambicios_recursiu(25) == True  \n",
    "assert ambicios_recursiu(100) == False \n",
    "assert ambicios_recursiu(143) == True "
   ]
  }
 ],
 "metadata": {
  "colab": {
   "collapsed_sections": [],
   "name": "2.16.ipynb",
   "provenance": []
  },
  "kernelspec": {
   "display_name": "Python 3",
   "language": "python",
   "name": "python3"
  },
  "language_info": {
   "codemirror_mode": {
    "name": "ipython",
    "version": 3
   },
   "file_extension": ".py",
   "mimetype": "text/x-python",
   "name": "python",
   "nbconvert_exporter": "python",
   "pygments_lexer": "ipython3",
   "version": "3.11.9"
  }
 },
 "nbformat": 4,
 "nbformat_minor": 0
}
