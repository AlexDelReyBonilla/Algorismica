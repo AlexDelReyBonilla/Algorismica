{
 "cells": [
  {
   "cell_type": "markdown",
   "metadata": {
    "id": "Y4Syz3Z6njBa"
   },
   "source": [
    "# Capítol 5 - Dividir i Vèncer"
   ]
  },
  {
   "cell_type": "markdown",
   "metadata": {
    "id": "P-PUxj6unjBu"
   },
   "source": [
    "## 5.23 Sumatori parcial màxim"
   ]
  },
  {
   "cell_type": "markdown",
   "metadata": {},
   "source": [
    "Donada una llista, calcula el valor del sumatori parcial màxim (sumant enters consecutius de la llista) usant un algorisme de força bruta, és a dir, en aquest cas, de complexitat $O(n^2)$."
   ]
  },
  {
   "cell_type": "code",
   "execution_count": 5,
   "metadata": {
    "id": "reYmSBX9njBu"
   },
   "outputs": [
    {
     "name": "stdout",
     "output_type": "stream",
     "text": [
      "18\n"
     ]
    }
   ],
   "source": [
    "# Solució força bruta, complexitat O(n^2)\n",
    "def sumatori_parcial_maxim_forca_bruta(llista):\n",
    "    max_sum = llista[0]\n",
    "    for i in range(0, len(llista)-1):\n",
    "        for j in range(i+1, len(llista)):\n",
    "            #print(llista[i:j])\n",
    "            if(sum(llista[i:j]) > max_sum):\n",
    "                max_sum = sum(llista[i:j])\n",
    "    \"\"\"\n",
    "    Aquesta funció troba el sumatori parcial (dels enters consecutius a la llista) de valor màxim.\n",
    "    \n",
    "    Parameters\n",
    "    ----------\n",
    "    llista: list\n",
    "    \n",
    "    Returns\n",
    "    -------\n",
    "    max_sum: int\n",
    "    \"\"\"\n",
    "    return max_sum\n",
    "print(sumatori_parcial_maxim_forca_bruta([-3, 2, -1, 9, 8 , -1, -1,-1, -105]))"
   ]
  },
  {
   "cell_type": "code",
   "execution_count": 6,
   "metadata": {
    "id": "Cp-x_sjsnjBu"
   },
   "outputs": [],
   "source": [
    "assert sumatori_parcial_maxim_forca_bruta([-3, 2, -1, 9, 8 , -1, -1,-1, -105]) == 18"
   ]
  },
  {
   "cell_type": "markdown",
   "metadata": {},
   "source": [
    "Ara usa un algorisme que implementi l'estratègia de dividir i véncer. Demostra que la complexitat és $O(n \\log n)$."
   ]
  },
  {
   "cell_type": "code",
   "execution_count": 66,
   "metadata": {
    "id": "8mJch0LLnjBu"
   },
   "outputs": [
    {
     "name": "stdout",
     "output_type": "stream",
     "text": [
      "9\n"
     ]
    }
   ],
   "source": [
    "# Solució dividir i vèncer, complexitat O(n log n)\n",
    "def sumatori_parcial_divider_vencer(llista): #funcion recursiva que encuentra el maximo\n",
    "    #cas base -> l'array només té un element\n",
    "    if len(llista) == 1:\n",
    "        return llista[0]\n",
    "    else:\n",
    "        return max(sumatori_parcial_divider_vencer(llista[:len(llista)//2]), sumatori_parcial_divider_vencer(llista[len(llista)//2:]))\n",
    "    \"\"\"\n",
    "    Aquesta funció troba el sumatori parcial (dels enters consecutius a la llista) de valor màxim.\n",
    "    \n",
    "    Parameters\n",
    "    ----------\n",
    "    llista: list\n",
    "    \n",
    "    Returns\n",
    "    -------\n",
    "    max_sum: int\n",
    "    \"\"\"\n",
    "    return max_sum\n",
    "llista =[-3, 2, -1, 9, 8 , -1, -1,-1, -105]\n",
    "print(sumatori_parcial_divider_vencer(llista))"
   ]
  },
  {
   "cell_type": "code",
   "execution_count": 64,
   "metadata": {
    "id": "zTn8TYvqnjBu"
   },
   "outputs": [
    {
     "ename": "AssertionError",
     "evalue": "",
     "output_type": "error",
     "traceback": [
      "\u001b[1;31m---------------------------------------------------------------------------\u001b[0m",
      "\u001b[1;31mAssertionError\u001b[0m                            Traceback (most recent call last)",
      "Cell \u001b[1;32mIn[64], line 1\u001b[0m\n\u001b[1;32m----> 1\u001b[0m \u001b[38;5;28;01massert\u001b[39;00m sumatori_parcial_divider_vencer([\u001b[38;5;241m-\u001b[39m\u001b[38;5;241m3\u001b[39m, \u001b[38;5;241m2\u001b[39m, \u001b[38;5;241m-\u001b[39m\u001b[38;5;241m1\u001b[39m, \u001b[38;5;241m9\u001b[39m, \u001b[38;5;241m8\u001b[39m , \u001b[38;5;241m-\u001b[39m\u001b[38;5;241m1\u001b[39m, \u001b[38;5;241m-\u001b[39m\u001b[38;5;241m1\u001b[39m,\u001b[38;5;241m-\u001b[39m\u001b[38;5;241m1\u001b[39m, \u001b[38;5;241m-\u001b[39m\u001b[38;5;241m105\u001b[39m]) \u001b[38;5;241m==\u001b[39m \u001b[38;5;241m18\u001b[39m\n",
      "\u001b[1;31mAssertionError\u001b[0m: "
     ]
    }
   ],
   "source": [
    "assert sumatori_parcial_divider_vencer([-3, 2, -1, 9, 8 , -1, -1,-1, -105]) == 18"
   ]
  },
  {
   "cell_type": "markdown",
   "metadata": {},
   "source": [
    "Usa ara l'algorisme de [Kadane](https://www.geeksforgeeks.org/largest-sum-contiguous-subarray/)\n",
    "."
   ]
  },
  {
   "cell_type": "code",
   "execution_count": 60,
   "metadata": {
    "id": "IuqoJXhlnjBu"
   },
   "outputs": [
    {
     "name": "stdout",
     "output_type": "stream",
     "text": [
      "18\n"
     ]
    }
   ],
   "source": [
    "# Solució Kadane,complexitat O(n)\n",
    "def sumatori_parcial_kadane(llista):\n",
    "    max_sum = float('-inf')  # Initialize to negative infinity for handling all negative lists\n",
    "    maximoActual = 0\n",
    "    for i in range(len(llista)):\n",
    "        maximoActual += llista[i]\n",
    "        if maximoActual > max_sum:\n",
    "            max_sum = maximoActual\n",
    "        if maximoActual < 0:  # Key change: Reset only if negative\n",
    "            maximoActual = 0\n",
    "        \n",
    "    return max_sum\n",
    "    \"\"\"\n",
    "    Aquesta funció troba el sumatori parcial (dels enters consecutius a la llista) de valor màxim.\n",
    "    \n",
    "    Parameters\n",
    "    ----------\n",
    "    llista: list\n",
    "    \n",
    "    Returns\n",
    "    -------\n",
    "    max_sum: int\n",
    "    \"\"\"\n",
    "        \n",
    "llista = [-3, 2, -1, 9, 8 , -1, -1,-1, -105] #tiene que cojer del 2 al 8 pero se deja el 2, -1\n",
    "print(sumatori_parcial_kadane(llista))\n"
   ]
  },
  {
   "cell_type": "code",
   "execution_count": 61,
   "metadata": {
    "id": "QDlKd9rPnjBu"
   },
   "outputs": [],
   "source": [
    "assert sumatori_parcial_kadane([-3, 2, -1, 9, 8 , -1, -1,-1, -105]) == 18"
   ]
  }
 ],
 "metadata": {
  "colab": {
   "collapsed_sections": [],
   "name": "5.23.ipynb",
   "provenance": []
  },
  "kernelspec": {
   "display_name": "Python 3",
   "language": "python",
   "name": "python3"
  },
  "language_info": {
   "codemirror_mode": {
    "name": "ipython",
    "version": 3
   },
   "file_extension": ".py",
   "mimetype": "text/x-python",
   "name": "python",
   "nbconvert_exporter": "python",
   "pygments_lexer": "ipython3",
   "version": "3.11.9"
  }
 },
 "nbformat": 4,
 "nbformat_minor": 4
}
