{
 "cells": [
  {
   "cell_type": "markdown",
   "metadata": {
    "id": "Y4Syz3Z6njBa"
   },
   "source": [
    "# Capítol 5 - Dividir i Vèncer"
   ]
  },
  {
   "cell_type": "markdown",
   "metadata": {
    "id": "P-PUxj6unjBu"
   },
   "source": [
    "## 5.23 Sumatori parcial màxim"
   ]
  },
  {
   "cell_type": "markdown",
   "metadata": {},
   "source": [
    "Donada una llista, calcula el valor del sumatori parcial màxim (sumant enters consecutius de la llista) usant un algorisme de força bruta, és a dir, en aquest cas, de complexitat $O(n^2)$."
   ]
  },
  {
   "cell_type": "code",
   "execution_count": 18,
   "metadata": {
    "id": "reYmSBX9njBu"
   },
   "outputs": [
    {
     "name": "stdout",
     "output_type": "stream",
     "text": [
      "[-3, 2, -1, 9, 8, -1, -1, -1, -105]\n",
      "[-3, -1, 8, -1, -105]\n",
      "[-3, 9, -1]\n",
      "[-3, 8, -105]\n",
      "[-3, -1]\n",
      "[-3, -1]\n",
      "[-3, -1]\n",
      "[-3, -105]\n",
      "[2, 9, -1, -1]\n",
      "[2, 8, -1]\n",
      "[2, -1]\n",
      "[2, -1]\n",
      "[2, -1]\n",
      "[2, -105]\n",
      "[2]\n",
      "[-1, -1, -105]\n",
      "[-1, -1]\n",
      "[-1, -1]\n",
      "[-1, -105]\n",
      "[-1]\n",
      "[-1]\n",
      "[9, -1]\n",
      "[9, -105]\n",
      "[9]\n",
      "[9]\n",
      "[9]\n",
      "[8]\n",
      "[8]\n",
      "[8]\n",
      "[8]\n",
      "[-1]\n",
      "[-1]\n",
      "[-1]\n",
      "[-1]\n",
      "[-1]\n",
      "[-1]\n",
      "9\n"
     ]
    }
   ],
   "source": [
    "# Solució força bruta, complexitat O(n^2)\n",
    "def sumatori_parcial_maxim_forca_bruta(llista):\n",
    "    max_sum = llista[0]\n",
    "    for i in range(0, len(llista)-1):\n",
    "        for j in range(i+1, len(llista)):\n",
    "            print(llista[i::j])\n",
    "            if(sum(llista[i::j]) > max_sum):\n",
    "                max_sum = sum(llista[i::j])\n",
    "    \"\"\"\n",
    "    Aquesta funció troba el sumatori parcial (dels enters consecutius a la llista) de valor màxim.\n",
    "    \n",
    "    Parameters\n",
    "    ----------\n",
    "    llista: list\n",
    "    \n",
    "    Returns\n",
    "    -------\n",
    "    max_sum: int\n",
    "    \"\"\"\n",
    "    return max_sum\n",
    "print(sumatori_parcial_maxim_forca_bruta([-3, 2, -1, 9, 8 , -1, -1,-1, -105]))"
   ]
  },
  {
   "cell_type": "code",
   "execution_count": 6,
   "metadata": {
    "id": "Cp-x_sjsnjBu"
   },
   "outputs": [
    {
     "ename": "ValueError",
     "evalue": "slice step cannot be zero",
     "output_type": "error",
     "traceback": [
      "\u001b[1;31m---------------------------------------------------------------------------\u001b[0m",
      "\u001b[1;31mValueError\u001b[0m                                Traceback (most recent call last)",
      "Cell \u001b[1;32mIn[6], line 1\u001b[0m\n\u001b[1;32m----> 1\u001b[0m \u001b[38;5;28;01massert\u001b[39;00m \u001b[43msumatori_parcial_maxim_forca_bruta\u001b[49m\u001b[43m(\u001b[49m\u001b[43m[\u001b[49m\u001b[38;5;241;43m-\u001b[39;49m\u001b[38;5;241;43m3\u001b[39;49m\u001b[43m,\u001b[49m\u001b[43m \u001b[49m\u001b[38;5;241;43m2\u001b[39;49m\u001b[43m,\u001b[49m\u001b[43m \u001b[49m\u001b[38;5;241;43m-\u001b[39;49m\u001b[38;5;241;43m1\u001b[39;49m\u001b[43m,\u001b[49m\u001b[43m \u001b[49m\u001b[38;5;241;43m9\u001b[39;49m\u001b[43m,\u001b[49m\u001b[43m \u001b[49m\u001b[38;5;241;43m8\u001b[39;49m\u001b[43m \u001b[49m\u001b[43m,\u001b[49m\u001b[43m \u001b[49m\u001b[38;5;241;43m-\u001b[39;49m\u001b[38;5;241;43m1\u001b[39;49m\u001b[43m,\u001b[49m\u001b[43m \u001b[49m\u001b[38;5;241;43m-\u001b[39;49m\u001b[38;5;241;43m1\u001b[39;49m\u001b[43m,\u001b[49m\u001b[38;5;241;43m-\u001b[39;49m\u001b[38;5;241;43m1\u001b[39;49m\u001b[43m,\u001b[49m\u001b[43m \u001b[49m\u001b[38;5;241;43m-\u001b[39;49m\u001b[38;5;241;43m105\u001b[39;49m\u001b[43m]\u001b[49m\u001b[43m)\u001b[49m \u001b[38;5;241m==\u001b[39m \u001b[38;5;241m18\u001b[39m\n",
      "Cell \u001b[1;32mIn[5], line 6\u001b[0m, in \u001b[0;36msumatori_parcial_maxim_forca_bruta\u001b[1;34m(llista)\u001b[0m\n\u001b[0;32m      4\u001b[0m \u001b[38;5;28;01mfor\u001b[39;00m i \u001b[38;5;129;01min\u001b[39;00m \u001b[38;5;28mrange\u001b[39m(\u001b[38;5;241m0\u001b[39m, \u001b[38;5;28mlen\u001b[39m(llista)):\n\u001b[0;32m      5\u001b[0m     \u001b[38;5;28;01mfor\u001b[39;00m j \u001b[38;5;129;01min\u001b[39;00m \u001b[38;5;28mrange\u001b[39m(i, \u001b[38;5;28mlen\u001b[39m(llista)):\n\u001b[1;32m----> 6\u001b[0m         \u001b[38;5;28;01mif\u001b[39;00m(\u001b[38;5;28msum\u001b[39m(\u001b[43mllista\u001b[49m\u001b[43m[\u001b[49m\u001b[43mi\u001b[49m\u001b[43m:\u001b[49m\u001b[43m:\u001b[49m\u001b[43mj\u001b[49m\u001b[43m]\u001b[49m) \u001b[38;5;241m>\u001b[39m max_sum):\n\u001b[0;32m      7\u001b[0m             max_sum \u001b[38;5;241m=\u001b[39m \u001b[38;5;28msum\u001b[39m(llista[i::j])\n\u001b[0;32m      8\u001b[0m \u001b[38;5;250m\u001b[39m\u001b[38;5;124;03m\"\"\"\u001b[39;00m\n\u001b[0;32m      9\u001b[0m \u001b[38;5;124;03mAquesta funció troba el sumatori parcial (dels enters consecutius a la llista) de valor màxim.\u001b[39;00m\n\u001b[0;32m     10\u001b[0m \u001b[38;5;124;03m\u001b[39;00m\n\u001b[1;32m   (...)\u001b[0m\n\u001b[0;32m     17\u001b[0m \u001b[38;5;124;03mmax_sum: int\u001b[39;00m\n\u001b[0;32m     18\u001b[0m \u001b[38;5;124;03m\"\"\"\u001b[39;00m\n",
      "\u001b[1;31mValueError\u001b[0m: slice step cannot be zero"
     ]
    }
   ],
   "source": [
    "assert sumatori_parcial_maxim_forca_bruta([-3, 2, -1, 9, 8 , -1, -1,-1, -105]) == 18"
   ]
  },
  {
   "cell_type": "markdown",
   "metadata": {},
   "source": [
    "Ara usa un algorisme que implementi l'estratègia de dividir i véncer. Demostra que la complexitat és $O(n \\log n)$."
   ]
  },
  {
   "cell_type": "code",
   "execution_count": null,
   "metadata": {
    "id": "8mJch0LLnjBu"
   },
   "outputs": [],
   "source": [
    "# Solució dividir i vèncer, complexitat O(n log n)\n",
    "def sumatori_parcial_divider_vencer(llista):\n",
    "    \"\"\"\n",
    "    Aquesta funció troba el sumatori parcial (dels enters consecutius a la llista) de valor màxim.\n",
    "    \n",
    "    Parameters\n",
    "    ----------\n",
    "    llista: list\n",
    "    \n",
    "    Returns\n",
    "    -------\n",
    "    max_sum: int\n",
    "    \"\"\"\n",
    "    return max_sum"
   ]
  },
  {
   "cell_type": "code",
   "execution_count": null,
   "metadata": {
    "id": "zTn8TYvqnjBu"
   },
   "outputs": [],
   "source": [
    "assert sumatori_parcial_divider_vencer([-3, 2, -1, 9, 8 , -1, -1,-1, -105]) == 18"
   ]
  },
  {
   "cell_type": "markdown",
   "metadata": {},
   "source": [
    "Usa ara l'algorisme de [Kadane](https://www.geeksforgeeks.org/largest-sum-contiguous-subarray/)\n",
    "."
   ]
  },
  {
   "cell_type": "code",
   "execution_count": null,
   "metadata": {
    "id": "IuqoJXhlnjBu"
   },
   "outputs": [],
   "source": [
    "# Solució Kadane,complexitat O(n)\n",
    "def sumatori_parcial_kadane(llista): \n",
    "    \"\"\"\n",
    "    Aquesta funció troba el sumatori parcial (dels enters consecutius a la llista) de valor màxim.\n",
    "    \n",
    "    Parameters\n",
    "    ----------\n",
    "    llista: list\n",
    "    \n",
    "    Returns\n",
    "    -------\n",
    "    max_sum: int\n",
    "    \"\"\"\n",
    "        \n",
    "    return max_sum\n"
   ]
  },
  {
   "cell_type": "code",
   "execution_count": null,
   "metadata": {
    "id": "QDlKd9rPnjBu"
   },
   "outputs": [],
   "source": [
    "assert sumatori_parcial_kadane([-3, 2, -1, 9, 8 , -1, -1,-1, -105]) == 18"
   ]
  }
 ],
 "metadata": {
  "colab": {
   "collapsed_sections": [],
   "name": "5.23.ipynb",
   "provenance": []
  },
  "kernelspec": {
   "display_name": "Python 3",
   "language": "python",
   "name": "python3"
  },
  "language_info": {
   "codemirror_mode": {
    "name": "ipython",
    "version": 3
   },
   "file_extension": ".py",
   "mimetype": "text/x-python",
   "name": "python",
   "nbconvert_exporter": "python",
   "pygments_lexer": "ipython3",
   "version": "3.11.9"
  }
 },
 "nbformat": 4,
 "nbformat_minor": 4
}
