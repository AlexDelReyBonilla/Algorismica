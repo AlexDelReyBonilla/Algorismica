{
 "cells": [
  {
   "cell_type": "markdown",
   "metadata": {
    "id": "oAbHn6lWjsBU"
   },
   "source": [
    "# Capítol 5 - Dividir i Vèncer"
   ]
  },
  {
   "cell_type": "markdown",
   "metadata": {
    "id": "3A4U78KyjsBj"
   },
   "source": [
    "### 5.12 Dividir una llista en tres parts segons un valor donat"
   ]
  },
  {
   "cell_type": "markdown",
   "metadata": {},
   "source": [
    "Escriu un algorisme que a partir d'una llista A i un valor v, modifiqui l'ordenació dels elements tal que al principi apareguin tots els elements igual a v, a continuació tots els elements més petits que v i finalment tots els elements més grans que v. Qualsevol d'aquestes parts pot estar buida. \n",
    "Atenció. No creïs cap llista nova per resoldre el problema; modifica únicament la llista original.\n",
    "\n",
    "L'algorisme ha de tenir un cost lineal."
   ]
  },
  {
   "cell_type": "code",
   "execution_count": 63,
   "metadata": {
    "id": "HYGsSzJAjsBj"
   },
   "outputs": [
    {
     "name": "stdout",
     "output_type": "stream",
     "text": [
      "3\n",
      "7\n",
      "[7, 7, 7, 1, 6, 4, 3, 2, 1, 9, 9, 8]\n"
     ]
    }
   ],
   "source": [
    "def parts_llista(llista, valor):\n",
    "    contador = 0\n",
    "    contadorFinal = 1\n",
    "    for i in range(0, len(llista)):\n",
    "        if (llista[i] == valor): #esto suelto funciona, pone el valor delante\n",
    "            llista[contador],llista[i] = llista[i], llista[contador]\n",
    "            contador += 1\n",
    "    for j in range(contador,len(llista)):    \n",
    "        if (llista[j] > valor): #este jode cosas\n",
    "            llista[-contadorFinal], llista[j] = llista[j], llista[-contadorFinal]\n",
    "            contador +=1\n",
    "            contadorFinal += 1\n",
    "    for k in range(contador,len(llista)):\n",
    "        if (llista[k] < valor): #este también jode cosas\n",
    "            llista[contador],llista[k] = llista[k], llista[contador]\n",
    "            contador += 1 \n",
    "            \n",
    "    \n",
    "    \"\"\"\n",
    "    Aquesta funció divideix la llista en 3 a partir del valor donat.\n",
    "    \n",
    "    Parameters\n",
    "    ----------\n",
    "    llista: list\n",
    "    valor: int\n",
    "    \n",
    "    Returns\n",
    "    -------\n",
    "    None\n",
    "    \"\"\"\n",
    "llista = [6, 2, 9, 8, 7, 4, 3, 7, 1, 9, 7, 1]\n",
    "parts_llista(llista,7)\n",
    "print(llista)"
   ]
  },
  {
   "cell_type": "code",
   "execution_count": 64,
   "metadata": {
    "id": "h0DdKkF-jsBj",
    "outputId": "45395657-b7aa-48d0-ce1a-532aadfa30d2"
   },
   "outputs": [
    {
     "name": "stdout",
     "output_type": "stream",
     "text": [
      "3\n",
      "7\n"
     ]
    },
    {
     "ename": "AssertionError",
     "evalue": "",
     "output_type": "error",
     "traceback": [
      "\u001b[1;31m---------------------------------------------------------------------------\u001b[0m",
      "\u001b[1;31mAssertionError\u001b[0m                            Traceback (most recent call last)",
      "Cell \u001b[1;32mIn[64], line 3\u001b[0m\n\u001b[0;32m      1\u001b[0m llista \u001b[38;5;241m=\u001b[39m [\u001b[38;5;241m6\u001b[39m, \u001b[38;5;241m2\u001b[39m, \u001b[38;5;241m9\u001b[39m, \u001b[38;5;241m8\u001b[39m, \u001b[38;5;241m7\u001b[39m, \u001b[38;5;241m4\u001b[39m, \u001b[38;5;241m3\u001b[39m, \u001b[38;5;241m7\u001b[39m, \u001b[38;5;241m1\u001b[39m, \u001b[38;5;241m9\u001b[39m, \u001b[38;5;241m7\u001b[39m, \u001b[38;5;241m1\u001b[39m]\n\u001b[0;32m      2\u001b[0m parts_llista(llista, \u001b[38;5;241m7\u001b[39m)\n\u001b[1;32m----> 3\u001b[0m \u001b[38;5;28;01massert\u001b[39;00m(llista) \u001b[38;5;241m==\u001b[39m [\u001b[38;5;241m7\u001b[39m, \u001b[38;5;241m7\u001b[39m, \u001b[38;5;241m7\u001b[39m, \u001b[38;5;241m6\u001b[39m, \u001b[38;5;241m2\u001b[39m, \u001b[38;5;241m1\u001b[39m, \u001b[38;5;241m3\u001b[39m, \u001b[38;5;241m1\u001b[39m, \u001b[38;5;241m4\u001b[39m, \u001b[38;5;241m9\u001b[39m, \u001b[38;5;241m8\u001b[39m, \u001b[38;5;241m9\u001b[39m]\n",
      "\u001b[1;31mAssertionError\u001b[0m: "
     ]
    }
   ],
   "source": [
    "llista = [6, 2, 9, 8, 7, 4, 3, 7, 1, 9, 7, 1]\n",
    "parts_llista(llista, 7)\n",
    "assert(llista) == [7, 7, 7, 6, 2, 1, 3, 1, 4, 9, 8, 9]"
   ]
  }
 ],
 "metadata": {
  "colab": {
   "collapsed_sections": [],
   "name": "5.12.ipynb",
   "provenance": []
  },
  "kernelspec": {
   "display_name": "Python 3",
   "language": "python",
   "name": "python3"
  },
  "language_info": {
   "codemirror_mode": {
    "name": "ipython",
    "version": 3
   },
   "file_extension": ".py",
   "mimetype": "text/x-python",
   "name": "python",
   "nbconvert_exporter": "python",
   "pygments_lexer": "ipython3",
   "version": "3.11.9"
  }
 },
 "nbformat": 4,
 "nbformat_minor": 4
}
