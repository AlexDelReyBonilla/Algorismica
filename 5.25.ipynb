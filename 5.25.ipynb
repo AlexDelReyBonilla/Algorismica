{
 "cells": [
  {
   "cell_type": "markdown",
   "metadata": {
    "id": "Zf2uFxcwoDze"
   },
   "source": [
    "# Capítol 5 - Dividir i Vèncer"
   ]
  },
  {
   "cell_type": "markdown",
   "metadata": {
    "id": "sSIVADBZoDz0"
   },
   "source": [
    "## 5.25 Quantes vegades apareix una cadena com a subseqüència"
   ]
  },
  {
   "cell_type": "markdown",
   "metadata": {},
   "source": [
    "Atenció: \n",
    "\n",
    "+ subcadena: tots els caràcters apareixen consecutius a la cadena original\n",
    "+ subsequència: els caràcters apareixen en ordre a la cadena original, però no necessàriament consecutius.\n",
    "\n",
    "Ex. cadena original: paraula\n",
    "+ subcadena: ara apareix un cop  pARAula\n",
    "+ subseqüència: ara apareix dues vegades:  pARAula i pARaulA\n",
    "+ subcadena: aru no apareix\n",
    "+ subseqüència: aru sí apareix: pARaUla"
   ]
  },
  {
   "cell_type": "code",
   "execution_count": 9,
   "metadata": {
    "id": "drpjQcKloDz0"
   },
   "outputs": [
    {
     "name": "stdout",
     "output_type": "stream",
     "text": [
      "0\n"
     ]
    }
   ],
   "source": [
    "def comptarSubsequencia(paraula, cadena):\n",
    "    #cas base\n",
    "    if paraula == \"\":\n",
    "        return 1\n",
    "    if cadena == \"\":\n",
    "        return 0\n",
    "    \n",
    "    if cadena[0] == paraula[0]:\n",
    "        \n",
    "        seguida = comptarSubsequencia(paraula[1:],cadena[1:])\n",
    "        separada = comptarSubsequencia(paraula,cadena[1:])\n",
    "        return seguida + separada\n",
    "    else:\n",
    "        return comptarSubsequencia(paraula[1:], cadena)\n",
    "    \"\"\"\n",
    "    Aquesta funció determina quantes vegades apareix una cadena en una paraula\n",
    "    com a subseqüència\n",
    "    \n",
    "    Parameters\n",
    "    ----------\n",
    "    paraula: string\n",
    "        paraula en la que buscar la cadena\n",
    "    cadena: string\n",
    "        cadena a buscar\n",
    "    diccSolucions: dict    \n",
    "    \n",
    "    Returns\n",
    "    -------\n",
    "    num: int\n",
    "        nombre de vegades que apareix\n",
    "    \"\"\"\n",
    "print(comptarSubsequencia(\"subsequencia\",\"sue\"))\n",
    "    "
   ]
  },
  {
   "cell_type": "code",
   "execution_count": 10,
   "metadata": {
    "id": "BmlpJSYBoDz0"
   },
   "outputs": [
    {
     "ename": "AssertionError",
     "evalue": "",
     "output_type": "error",
     "traceback": [
      "\u001b[1;31m---------------------------------------------------------------------------\u001b[0m",
      "\u001b[1;31mAssertionError\u001b[0m                            Traceback (most recent call last)",
      "Cell \u001b[1;32mIn[10], line 1\u001b[0m\n\u001b[1;32m----> 1\u001b[0m \u001b[38;5;28;01massert\u001b[39;00m comptarSubsequencia(\u001b[38;5;124m\"\u001b[39m\u001b[38;5;124msubsequencia\u001b[39m\u001b[38;5;124m\"\u001b[39m,\u001b[38;5;124m\"\u001b[39m\u001b[38;5;124msue\u001b[39m\u001b[38;5;124m\"\u001b[39m) \u001b[38;5;241m==\u001b[39m \u001b[38;5;241m4\u001b[39m\n",
      "\u001b[1;31mAssertionError\u001b[0m: "
     ]
    }
   ],
   "source": [
    "assert comptarSubsequencia(\"subsequencia\",\"sue\") == 4"
   ]
  }
 ],
 "metadata": {
  "colab": {
   "collapsed_sections": [],
   "name": "5.25.ipynb",
   "provenance": []
  },
  "kernelspec": {
   "display_name": "Python 3",
   "language": "python",
   "name": "python3"
  },
  "language_info": {
   "codemirror_mode": {
    "name": "ipython",
    "version": 3
   },
   "file_extension": ".py",
   "mimetype": "text/x-python",
   "name": "python",
   "nbconvert_exporter": "python",
   "pygments_lexer": "ipython3",
   "version": "3.11.9"
  }
 },
 "nbformat": 4,
 "nbformat_minor": 0
}
