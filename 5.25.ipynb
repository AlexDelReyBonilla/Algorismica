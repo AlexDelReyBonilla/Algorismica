{
 "cells": [
  {
   "cell_type": "markdown",
   "metadata": {
    "id": "Zf2uFxcwoDze"
   },
   "source": [
    "# Capítol 5 - Dividir i Vèncer"
   ]
  },
  {
   "cell_type": "markdown",
   "metadata": {
    "id": "sSIVADBZoDz0"
   },
   "source": [
    "## 5.25 Quantes vegades apareix una cadena com a subseqüència"
   ]
  },
  {
   "cell_type": "markdown",
   "metadata": {},
   "source": [
    "Atenció: \n",
    "\n",
    "+ subcadena: tots els caràcters apareixen consecutius a la cadena original\n",
    "+ subsequència: els caràcters apareixen en ordre a la cadena original, però no necessàriament consecutius.\n",
    "\n",
    "Ex. cadena original: paraula\n",
    "+ subcadena: ara apareix un cop  pARAula\n",
    "+ subseqüència: ara apareix dues vegades:  pARAula i pARaulA\n",
    "+ subcadena: aru no apareix\n",
    "+ subseqüència: aru sí apareix: pARaUla"
   ]
  },
  {
   "cell_type": "code",
   "execution_count": null,
   "metadata": {
    "id": "drpjQcKloDz0"
   },
   "outputs": [],
   "source": [
    "def comptarSubsequencia(paraula, cadena, diccSolucions = {}):\n",
    "    #cas base\n",
    "    if paraula == \"\":\n",
    "        return 0\n",
    "    if cadena == \"\":\n",
    "        return 1\n",
    "    \n",
    "    if cadena[0] == paraula[0]:\n",
    "        \n",
    "    \"\"\"\n",
    "    Aquesta funció determina quantes vegades apareix una cadena en una paraula\n",
    "    com a subseqüència\n",
    "    \n",
    "    Parameters\n",
    "    ----------\n",
    "    paraula: string\n",
    "        paraula en la que buscar la cadena\n",
    "    cadena: string\n",
    "        cadena a buscar\n",
    "    diccSolucions: dict    \n",
    "    \n",
    "    Returns\n",
    "    -------\n",
    "    num: int\n",
    "        nombre de vegades que apareix\n",
    "    \"\"\"\n",
    "\n",
    "    return num"
   ]
  },
  {
   "cell_type": "code",
   "execution_count": null,
   "metadata": {
    "id": "BmlpJSYBoDz0"
   },
   "outputs": [],
   "source": [
    "assert comptarSubsequencia(\"subsequencia\",\"sue\") == 4"
   ]
  }
 ],
 "metadata": {
  "colab": {
   "collapsed_sections": [],
   "name": "5.25.ipynb",
   "provenance": []
  },
  "kernelspec": {
   "display_name": "Python 3",
   "language": "python",
   "name": "python3"
  },
  "language_info": {
   "codemirror_mode": {
    "name": "ipython",
    "version": 3
   },
   "file_extension": ".py",
   "mimetype": "text/x-python",
   "name": "python",
   "nbconvert_exporter": "python",
   "pygments_lexer": "ipython3",
   "version": "3.8.10"
  }
 },
 "nbformat": 4,
 "nbformat_minor": 0
}
