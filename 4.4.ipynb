{
 "cells": [
  {
   "cell_type": "markdown",
   "metadata": {
    "id": "3o3r06ZwdZrY"
   },
   "source": [
    "# Capítol 4 - Algorismes i Text"
   ]
  },
  {
   "cell_type": "markdown",
   "metadata": {
    "id": "qansbtWydZrg"
   },
   "source": [
    "### 4.4 Totes les subcadenes"
   ]
  },
  {
   "cell_type": "markdown",
   "metadata": {},
   "source": [
    "Escriu una funció que retorni una llista amb totes les subcadenes d'una cadena donada. Fes servir list coprehensions."
   ]
  },
  {
   "cell_type": "code",
   "execution_count": 48,
   "metadata": {
    "id": "aL0b76TVdZrg"
   },
   "outputs": [
    {
     "name": "stdout",
     "output_type": "stream",
     "text": [
      "['a', 'ab', 'abc', 'abcd', 'b', 'bc', 'bcd', 'c', 'cd', 'd']\n"
     ]
    },
    {
     "data": {
      "text/plain": [
       "'\\nAquesta funció retorna totes les subcadenes de la cadena donada\\n    \\nParameters\\n    ----------\\n    cadena: string\\n    \\n    Returns\\n    -------\\n    subcadenes: list\\n    '"
      ]
     },
     "execution_count": 48,
     "metadata": {},
     "output_type": "execute_result"
    }
   ],
   "source": [
    "def totes_subcadenes(cadena):\n",
    "    sub_cadenes = [cadena[cadena.index(k):cadena.index(i)+1] for k in cadena for i in cadena if cadena[cadena.index(k):cadena.index(i)+1] != '']\n",
    "    '''\n",
    "    sub_cadenes=[]\n",
    "    for i in range(len(cadena)):\n",
    "        for k in range(len(cadena)):\n",
    "            sub_cadenes.append(cadena[i:k+1])\n",
    "    '''\n",
    "    return sub_cadenes\n",
    "\n",
    "\n",
    "print(totes_subcadenes('abcd'))\n",
    "\"\"\"\n",
    "Aquesta funció retorna totes les subcadenes de la cadena donada\n",
    "    \n",
    "Parameters\n",
    "    ----------\n",
    "    cadena: string\n",
    "    \n",
    "    Returns\n",
    "    -------\n",
    "    subcadenes: list\n",
    "    \"\"\"\n",
    "    "
   ]
  },
  {
   "cell_type": "code",
   "execution_count": 49,
   "metadata": {
    "id": "vK9NuQOKdZrg"
   },
   "outputs": [],
   "source": [
    "assert len(totes_subcadenes('abcd')) == int((len('abcd') *(len('abcd') + 1)/2))\n",
    "assert totes_subcadenes('abcd') == ['a', 'ab', 'abc', 'abcd', 'b', 'bc', 'bcd', 'c', 'cd', 'd']"
   ]
  }
 ],
 "metadata": {
  "colab": {
   "collapsed_sections": [],
   "name": "4.4.ipynb",
   "provenance": []
  },
  "kernelspec": {
   "display_name": "Python 3",
   "language": "python",
   "name": "python3"
  },
  "language_info": {
   "codemirror_mode": {
    "name": "ipython",
    "version": 3
   },
   "file_extension": ".py",
   "mimetype": "text/x-python",
   "name": "python",
   "nbconvert_exporter": "python",
   "pygments_lexer": "ipython3",
   "version": "3.11.9"
  }
 },
 "nbformat": 4,
 "nbformat_minor": 0
}
