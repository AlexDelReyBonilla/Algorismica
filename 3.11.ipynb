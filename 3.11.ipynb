{
 "cells": [
  {
   "cell_type": "markdown",
   "metadata": {
    "id": "Tq8bG1MNUhzi"
   },
   "source": [
    "# Capítol 3 - Algorismes i Nombres"
   ]
  },
  {
   "cell_type": "markdown",
   "metadata": {
    "id": "C8F_8ek7Uhz2"
   },
   "source": [
    "### 3.11 Fibonacci"
   ]
  },
  {
   "cell_type": "markdown",
   "metadata": {},
   "source": [
    "Calcula la suma dels termes parells de Fibonacci menors que 4000000. Quant temps triga?"
   ]
  },
  {
   "cell_type": "code",
   "execution_count": 3,
   "metadata": {
    "colab": {
     "base_uri": "https://localhost:8080/"
    },
    "executionInfo": {
     "elapsed": 3195,
     "status": "ok",
     "timestamp": 1626976308826,
     "user": {
      "displayName": "Mireia Ribera",
      "photoUrl": "https://lh3.googleusercontent.com/a-/AOh14GjTqRZ7NouSDW4C_ulQ_avv4hjoIDwULH8pASHwl3s=s64",
      "userId": "13870616405792739474"
     },
     "user_tz": -120
    },
    "id": "3GMGbvGhUhz2",
    "outputId": "09f4904e-4096-4c78-8ab4-826add091095"
   },
   "outputs": [
    {
     "data": {
      "text/plain": [
       "4613732"
      ]
     },
     "execution_count": 3,
     "metadata": {},
     "output_type": "execute_result"
    }
   ],
   "source": [
    "def fibonacci_termes_parells(n = 4000000):\n",
    "    a = 0\n",
    "    z = 0\n",
    "    b = 1\n",
    "    suma = 0\n",
    "    \n",
    "    while z < 4000000:\n",
    "        z = a + b\n",
    "        a = z - a\n",
    "        b = z\n",
    "        if z % 2 == 0:\n",
    "            suma += z\n",
    "    \"\"\"\n",
    "    Aquesta funció suma dels termes parells de Fibonacci.\n",
    "    \n",
    "    Parameters\n",
    "    ----------\n",
    "    n: int\n",
    "    \n",
    "    Returns\n",
    "    -------\n",
    "    suma: int\n",
    "    \"\"\"\n",
    "\n",
    "    return suma\n",
    " \n",
    "fibonacci_termes_parells(4000000)"
   ]
  },
  {
   "cell_type": "code",
   "execution_count": 4,
   "metadata": {
    "id": "hCfQiKnIUhz3"
   },
   "outputs": [],
   "source": [
    "assert fibonacci_termes_parells(4000000) == 4613732"
   ]
  },
  {
   "cell_type": "markdown",
   "metadata": {
    "id": "c7eM0YCYUhz3"
   },
   "source": [
    "La complexitat de l'algorisme és O():\n",
    "\n"
   ]
  },
  {
   "cell_type": "markdown",
   "metadata": {},
   "source": [
    "Fes una funció que sumi els $n$ primers termes de Fibonacci que siguin múltiples de $3$. És a dir, aquells termes de Fibonacci que es poden dividir per 3 de manera exacta."
   ]
  },
  {
   "cell_type": "code",
   "execution_count": 16,
   "metadata": {
    "id": "xvzLNQViUhz3"
   },
   "outputs": [
    {
     "data": {
      "text/plain": [
       "119814915"
      ]
     },
     "execution_count": 16,
     "metadata": {},
     "output_type": "execute_result"
    }
   ],
   "source": [
    "def fibonacci_multiples_3(n):\n",
    "    a = 0\n",
    "    z = 0\n",
    "    b = 1\n",
    "    suma = 0\n",
    "    contador = 0\n",
    "    while contador < n:\n",
    "        z = a + b\n",
    "        a = z - a\n",
    "        b = z\n",
    "        if z % 3 == 0:\n",
    "            suma += z\n",
    "            contador += 1\n",
    "    \n",
    "    return suma\n",
    "    \"\"\"\n",
    "    Aquesta funció suma els n primers termes de Fibonacci que són múltiples de 3.\n",
    "    \n",
    "    Parameters\n",
    "    ----------\n",
    "    n: int\n",
    "    \n",
    "    Returns\n",
    "    -------\n",
    "    suma: int\n",
    "    \"\"\"\n",
    "fibonacci_multiples_3(10)"
   ]
  },
  {
   "cell_type": "code",
   "execution_count": 17,
   "metadata": {
    "id": "j0abtNbKUhz3"
   },
   "outputs": [],
   "source": [
    "assert fibonacci_multiples_3(10) == 119814915"
   ]
  },
  {
   "cell_type": "markdown",
   "metadata": {
    "id": "BzZuCJXEUhz3"
   },
   "source": [
    "La complexitat de l'algorisme és O( ):\n",
    "\n"
   ]
  },
  {
   "cell_type": "markdown",
   "metadata": {},
   "source": [
    "L'enèsim terme de Fibonacci $F_n$ es pot obtenir amb càlculs matricials:\n",
    "$$\n",
    "\\begin{pmatrix} F_{n+1}  &F_n\\\\ F_n &F_{n-1} \\end{pmatrix} = \\begin{pmatrix} 1 & 1 \\\\ 1 & 0 \\end{pmatrix}^n\n",
    "$$\n",
    "\n",
    "Fes una funció que retorni els $n$ primers termes de la sèrie de Fibonacci calculats d'aquesta manera, amb la menor complexitat possible. Codifica una funció a part per la multiplicació de matrius sense fer servir cap funció avançada de Python."
   ]
  },
  {
   "cell_type": "code",
   "execution_count": 40,
   "metadata": {
    "id": "dpaCwdGWUhz4"
   },
   "outputs": [
    {
     "data": {
      "text/plain": [
       "[0, 1, 2, 8, 640]"
      ]
     },
     "execution_count": 40,
     "metadata": {},
     "output_type": "execute_result"
    }
   ],
   "source": [
    "def fibonacci_matricial(N):\n",
    "    serie = [0, 1]\n",
    "    matriz = [[1,1],[1,0]]\n",
    "    for i in range(N):\n",
    "        matriz[0][0] = matriz[0][0] * matriz[0][0] + matriz[1][0] * matriz[0][1]\n",
    "        matriz[0][1] = matriz[0][0] * matriz[0][1] + matriz[1][1] * matriz[0][1]\n",
    "        matriz[1][0] = matriz[1][0] * matriz[0][0] + matriz[1][1] * matriz[1][0]\n",
    "        matriz[1][1] = matriz[1][0] * matriz[0][1] + matriz[1][1] * matriz[1][1]\n",
    "\n",
    "\n",
    "\n",
    "        serie.append(matriz[0][0])\n",
    "    \"\"\"\n",
    "    Aquesta funció retorna els n primers termes de la sèrie \n",
    "    de Fibonnaci calculats de manera matricial.\n",
    "    \n",
    "    Parameters\n",
    "    ----------\n",
    "    N: int \n",
    "    \n",
    "    Returns\n",
    "    -------\n",
    "    serie: list\n",
    "    \"\"\"\n",
    "    return serie\n",
    "fibonacci_matricial(3)"
   ]
  },
  {
   "cell_type": "code",
   "execution_count": 38,
   "metadata": {
    "id": "ovP9c5AhUhz4"
   },
   "outputs": [
    {
     "ename": "AssertionError",
     "evalue": "",
     "output_type": "error",
     "traceback": [
      "\u001b[1;31m---------------------------------------------------------------------------\u001b[0m",
      "\u001b[1;31mAssertionError\u001b[0m                            Traceback (most recent call last)",
      "Cell \u001b[1;32mIn[38], line 1\u001b[0m\n\u001b[1;32m----> 1\u001b[0m \u001b[38;5;28;01massert\u001b[39;00m fibonacci_matricial(\u001b[38;5;241m10\u001b[39m) \u001b[38;5;241m==\u001b[39m [\u001b[38;5;241m0\u001b[39m, \u001b[38;5;241m1\u001b[39m, \u001b[38;5;241m1\u001b[39m, \u001b[38;5;241m2\u001b[39m, \u001b[38;5;241m3\u001b[39m,\u001b[38;5;241m5\u001b[39m, \u001b[38;5;241m8\u001b[39m, \u001b[38;5;241m13\u001b[39m, \u001b[38;5;241m21\u001b[39m, \u001b[38;5;241m34\u001b[39m]\n",
      "\u001b[1;31mAssertionError\u001b[0m: "
     ]
    }
   ],
   "source": [
    "assert fibonacci_matricial(10) == [0, 1, 1, 2, 3,5, 8, 13, 21, 34]"
   ]
  },
  {
   "cell_type": "markdown",
   "metadata": {
    "id": "RJO78c4MUhz4"
   },
   "source": [
    "        \n",
    "La complexitat de l'algorisme és O( )."
   ]
  }
 ],
 "metadata": {
  "colab": {
   "collapsed_sections": [],
   "name": "3.11.ipynb",
   "provenance": []
  },
  "kernelspec": {
   "display_name": "Python 3",
   "language": "python",
   "name": "python3"
  },
  "language_info": {
   "codemirror_mode": {
    "name": "ipython",
    "version": 3
   },
   "file_extension": ".py",
   "mimetype": "text/x-python",
   "name": "python",
   "nbconvert_exporter": "python",
   "pygments_lexer": "ipython3",
   "version": "3.11.9"
  }
 },
 "nbformat": 4,
 "nbformat_minor": 0
}
