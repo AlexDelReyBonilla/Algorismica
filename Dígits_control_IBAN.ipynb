{
  "cells": [
    {
      "cell_type": "markdown",
      "metadata": {},
      "source": [
        "# Comprovació de validesa d'un IBAN\n",
        "En un compte bancari real, hi ha 20 xifres en total. Les 4 primeres corresponen al banc, les 4 següents a l'oficina. Tot seguit, hi ha 2 xifres de control. Finalment 10 xifres més que representen el compte.\n",
        "\n",
        "Per calcular el primer dígit de control (9è nombre de l'IBAN, l'anomenarem `digit1`), s'utilitzen els números corresponents al banc i l'oficina. Tot seguit (10è nombre de l'IBAN) ve el segon dígit de control que es calcula amb les 10 últimes xifres, i l'anomenarem `digit2`."
      ]
    },
    {
      "cell_type": "markdown",
      "metadata": {
        "id": "nghaqfa0d_5y"
      },
      "source": [
        "## Dígit 1\n",
        "\n",
        "Digues quin és el primer dígit de control d'un compte bancari, sabent que aquest es calcula de la següent manera:\n",
        "Es multipliquen les xifres de l'entitat bancaria i l'oficina per $2^2$, $2^3$, ..., $2^{10}$ i se sumen els resultats (totes les operacions mòdul 11). Si anomenem aquesta suma $S$, seguidament es calcula $11-S$ i això correspon a `digit1`, a excepció de si es tracta d'un 10 o un 11, que llavors s'agafa 1 i 0 respectivament.\n",
        "\n",
        "\n",
        "Exemple:\n",
        "\n",
        "00043006  =>\n",
        "\n",
        "             0 * (2^2 % 11) + 0 * (2^3 % 11) + 0 * (2^4 % 11) + 4 * (2^5 % 11) = 40\n",
        "\n",
        "             3 * (2^6 % 11) + 0 * (2^7 % 11) + 0 * (2^8 % 11) + 6 * (2^9 % 11) = 27 + 36 = 63\n",
        "\n",
        "             (40 + 63) % 11 = 4\n",
        "\n",
        "             11 - 4 = 7\n",
        "             \n",
        "             el dígit de control és 7\n",
        "\n",
        "Escriu una funció `digit_control1` que donada una cadena amb 8 xifres, retorni el primer dígit de control. Intenta fer en tots els passos les operacions amb els nombres més petits possibles i sense fer servir l'operació mòdul quan no sigui necessari. Per fer-ho, recorda que \n",
        "$$(n\\cdot m + k\\cdot l )(\\mod a) = \\left[(n \\mod a)\\cdot(m \\mod a) + (k \\mod a)\\cdot(l \\mod a)\\right](\\mod a)$$"
      ]
    },
    {
      "cell_type": "code",
      "execution_count": 62,
      "metadata": {
        "id": "CA5vPylbd9iP"
      },
      "outputs": [
        {
          "name": "stdout",
          "output_type": "stream",
          "text": [
            "[3, 0, 2, 5, 0, 0, 1, 4]\n",
            "3\n",
            "12\n",
            "0\n",
            "12\n",
            "2\n",
            "22\n",
            "5\n",
            "72\n",
            "0\n",
            "72\n",
            "0\n",
            "72\n",
            "1\n",
            "75\n",
            "4\n",
            "99\n",
            "0\n"
          ]
        },
        {
          "data": {
            "text/plain": [
              "0"
            ]
          },
          "execution_count": 62,
          "metadata": {},
          "output_type": "execute_result"
        }
      ],
      "source": [
        "def digit_control1(num):\n",
        "   lista=[]\n",
        "   digit1 = 0\n",
        "   for j in range (0,8):      #convertir el numero a una llista \n",
        "      lista.insert(0,num % 10)\n",
        "      num -= (num % 10)\n",
        "      num = int(num/10)\n",
        "   print(lista)\n",
        "   suma = 0\n",
        "  \n",
        "   for i in range(0,8):      #sumar los digitos en modulo 11\n",
        "      suma += lista[i] * pow(2, 2+i, 11)\n",
        "      print(lista[i])\n",
        "      print(suma)\n",
        "   suma = suma % 11\n",
        "   print(suma)\n",
        "   if (suma != 10 and suma != 0):\n",
        "      digit1 = 11 - suma\n",
        "   elif (suma == 10):\n",
        "      digit1 = 1\n",
        "   else:\n",
        "      digit1 = 0\n",
        "\n",
        "   \"\"\"\n",
        "    Aquesta funció calcula el dígit de control corresponent a una entitat i oficina.\n",
        "\n",
        "    Parameters\n",
        "    ----------\n",
        "    num: string amb 8 caràcters corresponents a 8 enters\n",
        "\n",
        "    Returns\n",
        "    -------\n",
        "    digit1: int\n",
        "    \"\"\"\n",
        "   return digit1\n",
        "digit_control1(30250014)"
      ]
    },
    {
      "cell_type": "code",
      "execution_count": null,
      "metadata": {},
      "outputs": [],
      "source": [
        "assert digit_control1(\"00043006\")==7\n",
        "assert digit_control1(\"21000813\")==6\n",
        "assert digit_control1(\"21000014\")==1\n",
        "assert digit_control1(\"30250014\")==0"
      ]
    },
    {
      "cell_type": "markdown",
      "metadata": {},
      "source": [
        "## Dígit 2\n",
        "\n",
        "Calcula el segon dígit de control, sabent que es fa de la següent manera:\n",
        "\n",
        "Es multipliquen en ordre les 10 primeres xifres per $2^0, 2^1, 2^2, ..., 2^9$. Seguidament es calcula la seva suma mòdul 11. Finalment, aquest valor es resta d'onze i és el resultat. Tret si es tracta d'un 10 o un 11, en aquests casos es retorna 1 i 0 respectivament.\n",
        "\n",
        "Exemple:\n",
        "\n",
        "2100081367 =>\n",
        "\n",
        "```\n",
        "2 * (1 % 11) + 1 * (2 % 11) + 0 * (2^2 % 11) + 0 * (2^3 % 11) + 0 * (2^4 % 11) + 8 * (2^5 % 11) + 1 * (2^6 % 11) + 3 * (2^7 % 11) + 6 * (2^8 % 11) + 7 * (2^9 % 11) = 2 + 2 + 0 + 0 + 0 + 6 + 2 + 9 + 6 + 4 = 31\n",
        "\n",
        "31 % 11 = 9\n",
        "\n",
        "11 - 9 = 2\n",
        "``` \n",
        "\n",
        "\n",
        "Escriu una funció `digit_control2` que donada una cadena amb 10 xifres, retorni el segon dígit de control. Intenta fer en tots els passos les operacions amb els nombres més petits possibles i sense fer servir l'operació mòdul quan no sigui necessari."
      ]
    },
    {
      "cell_type": "code",
      "execution_count": 63,
      "metadata": {
        "id": "xdBXBMa2eFqs"
      },
      "outputs": [
        {
          "name": "stdout",
          "output_type": "stream",
          "text": [
            "[2, 1, 0, 0, 0, 0, 1, 4, 1, 0]\n",
            "44\n",
            "0\n"
          ]
        },
        {
          "data": {
            "text/plain": [
              "0"
            ]
          },
          "execution_count": 63,
          "metadata": {},
          "output_type": "execute_result"
        }
      ],
      "source": [
        "def digit_control2(num):\n",
        "   lista=[]\n",
        "   digit2 = 0\n",
        "   for j in range (0,10):      #convertir el numero a una llista \n",
        "      lista.insert(0,num % 10)\n",
        "      num -= (num % 10)\n",
        "      num = int(num/10)\n",
        "   print(lista)\n",
        "   suma = 0\n",
        "\n",
        "   for i in range(0,10):\n",
        "      suma += lista[i] * pow(2,i,11)\n",
        "   print(suma)\n",
        "   suma = suma % 11\n",
        "   print(suma)\n",
        "   if (suma != 10 and suma != 0):\n",
        "      digit2 = 11 - suma\n",
        "   elif (suma == 10):\n",
        "      digit2 = 1\n",
        "   else:\n",
        "      digit2 = 0\n",
        "   \"\"\"\n",
        "    Aquesta funció calcula el segon dígit de control corresponent a una entitat i oficina.\n",
        "\n",
        "    Parameters\n",
        "    ----------\n",
        "    num: string amb 10 caràcters corresponents a 10 enters\n",
        "\n",
        "    Returns\n",
        "    -------\n",
        "    digit2: int\n",
        "    \"\"\"\n",
        "   return digit2\n",
        "digit_control2(2100001410)"
      ]
    },
    {
      "cell_type": "code",
      "execution_count": null,
      "metadata": {},
      "outputs": [],
      "source": [
        "assert digit_control2('2100081367') == 2\n",
        "assert digit_control2('0004300672') == 1\n",
        "assert digit_control2('2100001410') == 0\n",
        "assert digit_control2('3025001403') == 4"
      ]
    },
    {
      "cell_type": "markdown",
      "metadata": {},
      "source": [
        "## Validesa\n",
        "Ara fes una funció que donada una string corresponent a un IBAN (que pot venir amb espais per separar grups de xifres o no) retorni si el número de compte és vàlid o no. És a dir, validi els dígits de control."
      ]
    },
    {
      "cell_type": "code",
      "execution_count": 78,
      "metadata": {},
      "outputs": [
        {
          "name": "stdout",
          "output_type": "stream",
          "text": [
            "30250001151433277525\n",
            "[3, 0, 2, 5, 0, 0, 0, 1, 1, 5, 1, 4, 3, 3, 2, 8, 0, 0, 4, 5]\n",
            "3\n",
            "12\n",
            "0\n",
            "12\n",
            "2\n",
            "22\n",
            "5\n",
            "72\n",
            "0\n",
            "72\n",
            "0\n",
            "72\n",
            "0\n",
            "72\n",
            "1\n",
            "78\n",
            "1\n",
            "203\n",
            "5\n"
          ]
        },
        {
          "data": {
            "text/plain": [
              "False"
            ]
          },
          "execution_count": 78,
          "metadata": {},
          "output_type": "execute_result"
        }
      ],
      "source": [
        "def valid_IBAN(num):\n",
        "  num = str(num)\n",
        "  num = int(num.strip())    #Quitamos los espacios\n",
        "  print(num)\n",
        "  lista=[]\n",
        "  digit1 = 0\n",
        "  digit2 = 0\n",
        "  valido = False\n",
        "  for j in range (0,20):      #convertir el numero a una llista --> imprime mal el final de la lista (5 digitos)\n",
        "    lista.insert(0,num % 10)\n",
        "    num = int(num / 10)\n",
        "  print(lista)\n",
        "  suma = 0\n",
        "  for i in range(0,8):      #sumar los digitos en modulo 11\n",
        "    suma += lista[i] * pow(2, 2+i, 11)\n",
        "    print(lista[i])\n",
        "    print(suma)\n",
        "  suma = suma % 11\n",
        "  print(suma)\n",
        "  if (suma != 10 and suma != 0):\n",
        "    digit1 = 11 - suma\n",
        "  elif (suma == 10):\n",
        "    digit1 = 1\n",
        "  else:\n",
        "    digit1 = 0\n",
        "    \n",
        "  suma = 0\n",
        "\n",
        "  for t in range(11,20):\n",
        "    suma += lista[t] * pow(2,i,11)\n",
        "  print(suma)\n",
        "  suma = suma % 11\n",
        "  print(suma)\n",
        "  if (suma != 10 and suma != 0):\n",
        "    digit2 = 11 - suma\n",
        "  elif (suma == 10):\n",
        "    digit2 = 1\n",
        "  else:\n",
        "    digit2 = 0\n",
        "\n",
        "  if (digit1 == lista[10] and digit2 == lista[11]):\n",
        "    valido = True\n",
        "    \"\"\"\n",
        "    Funció que donada una cadena amb un IBAN comprova si els dígits de control són vàlids.\n",
        "\n",
        "    Parameters\n",
        "    ----------\n",
        "    num: string amb un número de 20 dígits corresponent a un IBAN\n",
        "\n",
        "    Returns\n",
        "    -------\n",
        "    valid: boolean\n",
        "    \"\"\"\n",
        "  return valido\n",
        "valid_IBAN(30250001151433277525)\n",
        "  "
      ]
    },
    {
      "cell_type": "code",
      "execution_count": null,
      "metadata": {},
      "outputs": [],
      "source": [
        "assert valid_IBAN('0019 0020 9612 3456 7890') == True\n",
        "assert valid_IBAN('3025 0001 15 1433277525') == True\n",
        "assert valid_IBAN('2100 0813 6712 3456 7890') == False\n",
        "assert valid_IBAN('2100 0813 67 1234567891') == False\n",
        "assert valid_IBAN('2100 0813 6712 3456 7891') == False\n",
        "assert valid_IBAN('00043006 72 2100081367') == True"
      ]
    }
  ],
  "metadata": {
    "colab": {
      "provenance": []
    },
    "kernelspec": {
      "display_name": "Python 3",
      "name": "python3"
    },
    "language_info": {
      "codemirror_mode": {
        "name": "ipython",
        "version": 3
      },
      "file_extension": ".py",
      "mimetype": "text/x-python",
      "name": "python",
      "nbconvert_exporter": "python",
      "pygments_lexer": "ipython3",
      "version": "3.11.9"
    }
  },
  "nbformat": 4,
  "nbformat_minor": 0
}
